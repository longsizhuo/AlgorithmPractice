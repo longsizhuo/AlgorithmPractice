{
 "cells": [
  {
   "cell_type": "markdown",
   "source": [
    "# 电费计算器"
   ],
   "metadata": {
    "collapsed": false
   },
   "id": "5249fb1c0ed7640e"
  },
  {
   "cell_type": "code",
   "execution_count": 2,
   "outputs": [
    {
     "name": "stdout",
     "output_type": "stream",
     "text": [
      "龙龙: $14.30\n",
      "Rachel: $12.60\n",
      "bocchi: $19.75\n",
      "快乐砖家: $31.67\n"
     ]
    }
   ],
   "source": [
    "import datetime\n",
    "\n",
    "#计算留在这里的日期天数\n",
    "def get_days(date1, date2):\n",
    "    date1 = datetime.datetime.strptime(date1, '%Y-%m-%d')\n",
    "    date2 = datetime.datetime.strptime(date2, '%Y-%m-%d')\n",
    "    return (date2 - date1).days\n",
    "\n",
    "date_first = \"2023-10-05\"\n",
    "names = ['龙龙', 'Rachel', 'bocchi', '快乐砖家']\n",
    "dates = ['2023-11-15', '2023-11-10', '2023-12-01', '2024-01-05']\n",
    "\n",
    "# +1 是需要计算当天的电费，举个例子：如果直接计算12-27 -> 9.28为90天而不是91天。\n",
    "ratio = [get_days(date_first, date)+1 for date in dates]\n",
    "\n",
    "# 总房租\n",
    "amount = 78.32\n",
    "rents = [i / sum(ratio) * amount for i in ratio]\n",
    "\n",
    "# 使用格式化输出将名字和房租对应起来\n",
    "for name, rent in zip(names, rents):\n",
    "    print(f\"{name}: ${rent:.2f}\")\n"
   ],
   "metadata": {
    "collapsed": false,
    "ExecuteTime": {
     "end_time": "2024-01-17T01:28:16.268757Z",
     "start_time": "2024-01-17T01:28:16.260668Z"
    }
   },
   "id": "fd546c830d7239b9"
  },
  {
   "cell_type": "code",
   "execution_count": null,
   "outputs": [],
   "source": [
    "a "
   ],
   "metadata": {
    "collapsed": false
   },
   "id": "aa6f351276a11dc8"
  },
  {
   "cell_type": "code",
   "execution_count": 18,
   "outputs": [
    {
     "data": {
      "text/plain": "[[1, 4, 9], [16, 25, 36], [49, 64, 81]]"
     },
     "execution_count": 18,
     "metadata": {},
     "output_type": "execute_result"
    }
   ],
   "source": [
    "a = [[1,2,3],[4,5,6],[7,8,9]]\n",
    "b = [[1,2,3],[4,5,6],[7,8,9]]\n",
    "c = [[0] * len(a) for _ in range(len(a))]\n",
    "for i in range(len(a)):\n",
    "    for j in range(len(b)):\n",
    "        c[i][j] = a[i][j] * b[i][j]\n",
    "c"
   ],
   "metadata": {
    "collapsed": false,
    "ExecuteTime": {
     "end_time": "2024-01-06T09:05:32.671267Z",
     "start_time": "2024-01-06T09:05:32.636184Z"
    }
   },
   "id": "73a1411a93a501d3"
  },
  {
   "cell_type": "code",
   "execution_count": 21,
   "outputs": [
    {
     "data": {
      "text/plain": "[[30, 36, 42], [66, 81, 96], [102, 126, 150]]"
     },
     "execution_count": 21,
     "metadata": {},
     "output_type": "execute_result"
    }
   ],
   "source": [
    "c = [[0] * len(a) for _ in range(len(a))]\n",
    "for i in range(len(a)):\n",
    "    for j in range(len(b)):\n",
    "        for k in range(len(a)):\n",
    "            c[i][j] += a[i][k] * b[k][j]\n",
    "c"
   ],
   "metadata": {
    "collapsed": false,
    "ExecuteTime": {
     "end_time": "2024-01-06T09:11:10.362478Z",
     "start_time": "2024-01-06T09:11:10.357327Z"
    }
   },
   "id": "9e3c7033f7aff17"
  },
  {
   "cell_type": "code",
   "execution_count": null,
   "outputs": [],
   "source": [],
   "metadata": {
    "collapsed": false
   },
   "id": "b89918e8f12d033d"
  },
  {
   "cell_type": "code",
   "execution_count": null,
   "outputs": [],
   "source": [],
   "metadata": {
    "collapsed": false
   },
   "id": "4e2a5badd38d3c1a"
  },
  {
   "cell_type": "code",
   "execution_count": null,
   "outputs": [],
   "source": [],
   "metadata": {
    "collapsed": false
   },
   "id": "e917ba05254faad8"
  },
  {
   "cell_type": "code",
   "execution_count": null,
   "outputs": [],
   "source": [
    "a"
   ],
   "metadata": {
    "collapsed": false
   },
   "id": "91e24c33d57956e9"
  },
  {
   "cell_type": "code",
   "execution_count": null,
   "outputs": [],
   "source": [],
   "metadata": {
    "collapsed": false
   },
   "id": "194a22a574827052"
  },
  {
   "cell_type": "code",
   "execution_count": null,
   "outputs": [],
   "source": [],
   "metadata": {
    "collapsed": false
   },
   "id": "2af765e3a254a8fe"
  },
  {
   "cell_type": "code",
   "execution_count": 4,
   "outputs": [
    {
     "data": {
      "text/plain": "'0b1111'"
     },
     "execution_count": 4,
     "metadata": {},
     "output_type": "execute_result"
    }
   ],
   "source": [
    "a = 0b1001\n",
    "b = 0b0110\n",
    "\n",
    "bin(a ^ b)"
   ],
   "metadata": {
    "collapsed": false,
    "ExecuteTime": {
     "end_time": "2024-01-10T08:51:04.987996Z",
     "start_time": "2024-01-10T08:51:04.984666Z"
    }
   },
   "id": "ab686e3f5e9ffbae"
  },
  {
   "cell_type": "code",
   "execution_count": 33,
   "outputs": [
    {
     "name": "stdout",
     "output_type": "stream",
     "text": [
      "3 1\n"
     ]
    }
   ],
   "source": [
    "a,b = map(int, input().split())\n",
    "print(a//b, a%b)"
   ],
   "metadata": {
    "collapsed": false,
    "ExecuteTime": {
     "end_time": "2024-01-17T03:16:38.761543Z",
     "start_time": "2024-01-17T03:16:28.880716Z"
    }
   },
   "id": "e22fc6a68fa63c23"
  },
  {
   "cell_type": "code",
   "execution_count": 39,
   "outputs": [
    {
     "name": "stdout",
     "output_type": "stream",
     "text": [
      "0.575%\n"
     ]
    }
   ],
   "source": [
    "a = int(input())\n",
    "b = int(input())\n",
    "print(format(b/a*100, \".3f\")+\"%\")"
   ],
   "metadata": {
    "collapsed": false,
    "ExecuteTime": {
     "end_time": "2024-01-17T03:24:19.143011Z",
     "start_time": "2024-01-17T03:24:08.638751Z"
    }
   },
   "id": "6e66d1d838c6696a"
  },
  {
   "cell_type": "code",
   "execution_count": 6,
   "outputs": [
    {
     "name": "stdout",
     "output_type": "stream",
     "text": [
      "65\n"
     ]
    }
   ],
   "source": [
    "print(chr(int(input())))"
   ],
   "metadata": {
    "collapsed": false,
    "ExecuteTime": {
     "end_time": "2024-01-17T02:20:13.349496Z",
     "start_time": "2024-01-17T02:20:12.293211Z"
    }
   },
   "id": "4a460799c8c53be2"
  },
  {
   "cell_type": "code",
   "execution_count": 7,
   "outputs": [
    {
     "name": "stdout",
     "output_type": "stream",
     "text": [
      "456\n"
     ]
    }
   ],
   "source": [
    "print(input().split()[1])"
   ],
   "metadata": {
    "collapsed": false,
    "ExecuteTime": {
     "end_time": "2024-01-17T02:22:30.290076Z",
     "start_time": "2024-01-17T02:22:24.720966Z"
    }
   },
   "id": "19f182595dd4a235"
  },
  {
   "cell_type": "code",
   "execution_count": 11,
   "outputs": [
    {
     "name": "stdout",
     "output_type": "stream",
     "text": [
      "123456789        0        -1        "
     ]
    }
   ],
   "source": [
    "a, b, c = map(int, input().split())\n",
    "print(\"{:>8} {:>8} {:>8}\".format(a, b, c))\n",
    "\n",
    "    "
   ],
   "metadata": {
    "collapsed": false,
    "ExecuteTime": {
     "end_time": "2024-01-17T02:26:54.870884Z",
     "start_time": "2024-01-17T02:26:42.153212Z"
    }
   },
   "id": "fae5abc1c5338b9d"
  },
  {
   "cell_type": "code",
   "execution_count": 20,
   "outputs": [
    {
     "name": "stdout",
     "output_type": "stream",
     "text": [
      "  *\n",
      " ***\n",
      "*****\n"
     ]
    }
   ],
   "source": [
    "x = input()\n",
    "for i in range(1, 4):\n",
    "    print((5-(2*i-1))//2*' ' + (2*i-1)*x)"
   ],
   "metadata": {
    "collapsed": false,
    "ExecuteTime": {
     "end_time": "2024-01-17T02:37:48.726670Z",
     "start_time": "2024-01-17T02:37:48.093369Z"
    }
   },
   "id": "b83325262d440ec1"
  },
  {
   "cell_type": "code",
   "execution_count": 32,
   "outputs": [
    {
     "name": "stdout",
     "output_type": "stream",
     "text": [
      "75.00\n"
     ]
    }
   ],
   "source": [
    "x,a,y,b = map(int, input().split())\n",
    "# R每年增长资源\n",
    "R = abs((y*b-x*a)/(a-b))\n",
    "print(format(R, \".2f\"))"
   ],
   "metadata": {
    "collapsed": false,
    "ExecuteTime": {
     "end_time": "2024-01-17T03:03:49.438850Z",
     "start_time": "2024-01-17T03:03:47.536704Z"
    }
   },
   "id": "99f8f179e76d95ce"
  },
  {
   "cell_type": "code",
   "execution_count": 40,
   "outputs": [
    {
     "ename": "ValueError",
     "evalue": "invalid literal for int() with base 10: '-459.67'",
     "output_type": "error",
     "traceback": [
      "\u001B[0;31m---------------------------------------------------------------------------\u001B[0m",
      "\u001B[0;31mValueError\u001B[0m                                Traceback (most recent call last)",
      "Cell \u001B[0;32mIn[40], line 1\u001B[0m\n\u001B[0;32m----> 1\u001B[0m F \u001B[38;5;241m=\u001B[39m \u001B[38;5;28mint\u001B[39m(\u001B[38;5;28minput\u001B[39m())\n\u001B[1;32m      2\u001B[0m C \u001B[38;5;241m=\u001B[39m \u001B[38;5;241m5\u001B[39m\u001B[38;5;241m*\u001B[39m(F\u001B[38;5;241m-\u001B[39m\u001B[38;5;241m32\u001B[39m)\u001B[38;5;241m/\u001B[39m\u001B[38;5;241m9\u001B[39m\n\u001B[1;32m      3\u001B[0m \u001B[38;5;28mprint\u001B[39m(\u001B[38;5;28mformat\u001B[39m(C, \u001B[38;5;124m\"\u001B[39m\u001B[38;5;124m.5f\u001B[39m\u001B[38;5;124m\"\u001B[39m))\n",
      "\u001B[0;31mValueError\u001B[0m: invalid literal for int() with base 10: '-459.67'"
     ]
    }
   ],
   "source": [
    "F = float(input())\n",
    "C = 5 * (F - 32) / 9\n",
    "print(format(C, \".5f\"))\n"
   ],
   "metadata": {
    "collapsed": false,
    "ExecuteTime": {
     "end_time": "2024-01-17T03:33:27.755716Z",
     "start_time": "2024-01-17T03:33:17.162938Z"
    }
   },
   "id": "6ef31f218a091bff"
  },
  {
   "cell_type": "code",
   "execution_count": 41,
   "outputs": [
    {
     "name": "stdout",
     "output_type": "stream",
     "text": [
      "6.0000 28.2743 18.8495\n"
     ]
    }
   ],
   "source": [
    "pi = 3.14159\n",
    "r = float(input())\n",
    "print(format(2*r, \".4f\"), format(2*pi*r, \".4f\"), format(pi*r*r, \".4f\"))"
   ],
   "metadata": {
    "collapsed": false,
    "ExecuteTime": {
     "end_time": "2024-01-17T03:37:23.925948Z",
     "start_time": "2024-01-17T03:37:22.466970Z"
    }
   },
   "id": "3f9c27026db975e6"
  },
  {
   "cell_type": "code",
   "execution_count": 42,
   "outputs": [
    {
     "name": "stdout",
     "output_type": "stream",
     "text": [
      "0.67\n"
     ]
    }
   ],
   "source": [
    "r1, r2 = map(float, input().split())\n",
    "R = 1/(1/r1+1/r2)\n",
    "print(format(R, \".2f\"))"
   ],
   "metadata": {
    "collapsed": false,
    "ExecuteTime": {
     "end_time": "2024-01-17T03:39:37.850455Z",
     "start_time": "2024-01-17T03:39:36.802732Z"
    }
   },
   "id": "c4a0473e45a06f2b"
  },
  {
   "cell_type": "code",
   "execution_count": 43,
   "outputs": [
    {
     "name": "stdout",
     "output_type": "stream",
     "text": [
      "2\n"
     ]
    }
   ],
   "source": [
    "float_num = float(input())\n",
    "int_num = int(float_num)\n",
    "print(int_num)"
   ],
   "metadata": {
    "collapsed": false,
    "ExecuteTime": {
     "end_time": "2024-01-17T03:40:42.381816Z",
     "start_time": "2024-01-17T03:40:40.759818Z"
    }
   },
   "id": "fa6b2c44c30147ec"
  },
  {
   "cell_type": "code",
   "execution_count": 45,
   "outputs": [
    {
     "name": "stdout",
     "output_type": "stream",
     "text": [
      "65\n"
     ]
    }
   ],
   "source": [
    "n = input()\n",
    "print(ord(n))"
   ],
   "metadata": {
    "collapsed": false,
    "ExecuteTime": {
     "end_time": "2024-01-17T03:43:59.176797Z",
     "start_time": "2024-01-17T03:43:57.125713Z"
    }
   },
   "id": "6a3f71c5aafb3d4a"
  },
  {
   "cell_type": "code",
   "execution_count": 47,
   "outputs": [
    {
     "name": "stdout",
     "output_type": "stream",
     "text": [
      "1\n"
     ]
    }
   ],
   "source": [
    "print(1 if int(input()) != 0 else 0)"
   ],
   "metadata": {
    "collapsed": false,
    "ExecuteTime": {
     "end_time": "2024-01-17T05:54:23.830813Z",
     "start_time": "2024-01-17T05:54:22.857605Z"
    }
   },
   "id": "3d88418a8b9cfcf0"
  },
  {
   "cell_type": "code",
   "execution_count": 58,
   "outputs": [
    {
     "name": "stdout",
     "output_type": "stream",
     "text": [
      "[5, 6, 7, 9, 5]\n"
     ]
    }
   ],
   "source": [
    "people = list(map(int, input().split()))\n",
    "people[0] = people[0] // 3\n",
    "people[-1] += people[0]\n",
    "for i in range(1, len(people)):\n",
    "    # 接受上个人的糖果\n",
    "    people[i] += people[i-1] // 3\n",
    "    sugar = people[i] // 3\n",
    "    people[i] = sugar\n",
    "    people[i-1] += sugar\n",
    "print(people)"
   ],
   "metadata": {
    "collapsed": false,
    "ExecuteTime": {
     "end_time": "2024-01-17T06:20:54.634533Z",
     "start_time": "2024-01-17T06:20:52.700355Z"
    }
   },
   "id": "49c84e8faac2ebf3"
  },
  {
   "cell_type": "code",
   "execution_count": 61,
   "outputs": [
    {
     "name": "stdout",
     "output_type": "stream",
     "text": [
      "1.000\n"
     ]
    }
   ],
   "source": [
    "print(format(float(input()), \".3f\"))"
   ],
   "metadata": {
    "collapsed": false,
    "ExecuteTime": {
     "end_time": "2024-01-17T06:38:11.505073Z",
     "start_time": "2024-01-17T06:38:10.552071Z"
    }
   },
   "id": "7aa6e94e135109de"
  },
  {
   "cell_type": "code",
   "execution_count": 64,
   "outputs": [
    {
     "name": "stdout",
     "output_type": "stream",
     "text": [
      "a 12 2.300000 3.200000\n"
     ]
    }
   ],
   "source": [
    "char =  input()\n",
    "intt = int(input())\n",
    "floatt = float(input())\n",
    "doublee = float(input())\n",
    "print(char, intt, format(floatt,\".6f\"), format(doublee, \".6f\"))"
   ],
   "metadata": {
    "collapsed": false,
    "ExecuteTime": {
     "end_time": "2024-01-17T06:46:39.073209Z",
     "start_time": "2024-01-17T06:46:34.117900Z"
    }
   },
   "id": "45404c499ef79c22"
  },
  {
   "cell_type": "code",
   "execution_count": null,
   "outputs": [],
   "source": [
    "\n"
   ],
   "metadata": {
    "collapsed": false
   },
   "id": "bc7881c8eb5e89ec"
  }
 ],
 "metadata": {
  "kernelspec": {
   "display_name": "Python 3",
   "language": "python",
   "name": "python3"
  },
  "language_info": {
   "codemirror_mode": {
    "name": "ipython",
    "version": 2
   },
   "file_extension": ".py",
   "mimetype": "text/x-python",
   "name": "python",
   "nbconvert_exporter": "python",
   "pygments_lexer": "ipython2",
   "version": "2.7.6"
  }
 },
 "nbformat": 4,
 "nbformat_minor": 5
}
