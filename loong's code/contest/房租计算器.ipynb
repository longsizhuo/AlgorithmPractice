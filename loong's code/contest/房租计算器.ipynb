{
 "cells": [
  {
   "cell_type": "markdown",
   "source": [
    "# 电费计算器"
   ],
   "metadata": {
    "collapsed": false
   },
   "id": "5249fb1c0ed7640e"
  },
  {
   "cell_type": "code",
   "execution_count": 13,
   "outputs": [
    {
     "name": "stdout",
     "output_type": "stream",
     "text": [
      "龙龙要打翻你们: $133.51\n",
      "Rachel_青: $133.51\n",
      "bocchi: $177.11\n",
      "快乐砖家: $247.95\n"
     ]
    }
   ],
   "source": [
    "import datetime\n",
    "\n",
    "#计算留在这里的日期天数\n",
    "def get_days(date1, date2):\n",
    "    date1 = datetime.datetime.strptime(date1, '%Y-%m-%d')\n",
    "    date2 = datetime.datetime.strptime(date2, '%Y-%m-%d')\n",
    "    return (date2 - date1).days\n",
    "\n",
    "date_first = \"2023-09-28\"\n",
    "names = ['龙龙', 'Rachel', 'bocchi', '快乐砖家']\n",
    "dates = ['2023-11-15', '2023-11-15', '2023-12-01', '2023-12-27']\n",
    "\n",
    "# +1 是需要计算当天的电费，举个例子：如果直接计算12-27 -> 9.28为90天而不是91天。\n",
    "ratio = [get_days(date_first, date)+1 for date in dates]\n",
    "\n",
    "# 总房租\n",
    "amount = 692.08\n",
    "rents = [i / sum(ratio) * amount for i in ratio]\n",
    "\n",
    "# 使用格式化输出将名字和房租对应起来\n",
    "for name, rent in zip(names, rents):\n",
    "    print(f\"{name}: ${rent:.2f}\")\n"
   ],
   "metadata": {
    "collapsed": false,
    "ExecuteTime": {
     "end_time": "2024-01-03T13:07:54.109987Z",
     "start_time": "2024-01-03T13:07:54.106416Z"
    }
   },
   "id": "fd546c830d7239b9"
  },
  {
   "cell_type": "code",
   "execution_count": null,
   "outputs": [],
   "source": [
    "a "
   ],
   "metadata": {
    "collapsed": false
   },
   "id": "aa6f351276a11dc8"
  },
  {
   "cell_type": "code",
   "execution_count": 18,
   "outputs": [
    {
     "data": {
      "text/plain": "[[1, 4, 9], [16, 25, 36], [49, 64, 81]]"
     },
     "execution_count": 18,
     "metadata": {},
     "output_type": "execute_result"
    }
   ],
   "source": [
    "a = [[1,2,3],[4,5,6],[7,8,9]]\n",
    "b = [[1,2,3],[4,5,6],[7,8,9]]\n",
    "c = [[0] * len(a) for _ in range(len(a))]\n",
    "for i in range(len(a)):\n",
    "    for j in range(len(b)):\n",
    "        c[i][j] = a[i][j] * b[i][j]\n",
    "c"
   ],
   "metadata": {
    "collapsed": false,
    "ExecuteTime": {
     "end_time": "2024-01-06T09:05:32.671267Z",
     "start_time": "2024-01-06T09:05:32.636184Z"
    }
   },
   "id": "73a1411a93a501d3"
  },
  {
   "cell_type": "code",
   "execution_count": 21,
   "outputs": [
    {
     "data": {
      "text/plain": "[[30, 36, 42], [66, 81, 96], [102, 126, 150]]"
     },
     "execution_count": 21,
     "metadata": {},
     "output_type": "execute_result"
    }
   ],
   "source": [
    "c = [[0] * len(a) for _ in range(len(a))]\n",
    "for i in range(len(a)):\n",
    "    for j in range(len(b)):\n",
    "        for k in range(len(a)):\n",
    "            c[i][j] += a[i][k] * b[k][j]\n",
    "c"
   ],
   "metadata": {
    "collapsed": false,
    "ExecuteTime": {
     "end_time": "2024-01-06T09:11:10.362478Z",
     "start_time": "2024-01-06T09:11:10.357327Z"
    }
   },
   "id": "9e3c7033f7aff17"
  },
  {
   "cell_type": "code",
   "execution_count": null,
   "outputs": [],
   "source": [],
   "metadata": {
    "collapsed": false
   },
   "id": "b89918e8f12d033d"
  },
  {
   "cell_type": "code",
   "execution_count": null,
   "outputs": [],
   "source": [],
   "metadata": {
    "collapsed": false
   },
   "id": "4e2a5badd38d3c1a"
  },
  {
   "cell_type": "code",
   "execution_count": null,
   "outputs": [],
   "source": [],
   "metadata": {
    "collapsed": false
   },
   "id": "e917ba05254faad8"
  },
  {
   "cell_type": "code",
   "execution_count": null,
   "outputs": [],
   "source": [
    "a"
   ],
   "metadata": {
    "collapsed": false
   },
   "id": "91e24c33d57956e9"
  },
  {
   "cell_type": "code",
   "execution_count": null,
   "outputs": [],
   "source": [],
   "metadata": {
    "collapsed": false
   },
   "id": "194a22a574827052"
  },
  {
   "cell_type": "code",
   "execution_count": null,
   "outputs": [],
   "source": [],
   "metadata": {
    "collapsed": false
   },
   "id": "2af765e3a254a8fe"
  },
  {
   "cell_type": "code",
   "execution_count": 4,
   "outputs": [
    {
     "data": {
      "text/plain": "'0b1111'"
     },
     "execution_count": 4,
     "metadata": {},
     "output_type": "execute_result"
    }
   ],
   "source": [
    "a = 0b1001\n",
    "b = 0b0110\n",
    "\n",
    "bin(a ^ b)"
   ],
   "metadata": {
    "collapsed": false,
    "ExecuteTime": {
     "end_time": "2024-01-10T08:51:04.987996Z",
     "start_time": "2024-01-10T08:51:04.984666Z"
    }
   },
   "id": "ab686e3f5e9ffbae"
  },
  {
   "cell_type": "code",
   "execution_count": null,
   "outputs": [],
   "source": [],
   "metadata": {
    "collapsed": false
   },
   "id": "e22fc6a68fa63c23"
  }
 ],
 "metadata": {
  "kernelspec": {
   "display_name": "Python 3",
   "language": "python",
   "name": "python3"
  },
  "language_info": {
   "codemirror_mode": {
    "name": "ipython",
    "version": 2
   },
   "file_extension": ".py",
   "mimetype": "text/x-python",
   "name": "python",
   "nbconvert_exporter": "python",
   "pygments_lexer": "ipython2",
   "version": "2.7.6"
  }
 },
 "nbformat": 4,
 "nbformat_minor": 5
}
