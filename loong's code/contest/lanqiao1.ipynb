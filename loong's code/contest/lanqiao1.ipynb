{
 "cells": [
  {
   "cell_type": "code",
   "execution_count": 1,
   "id": "initial_id",
   "metadata": {
    "collapsed": true,
    "ExecuteTime": {
     "end_time": "2024-05-25T06:36:21.415559Z",
     "start_time": "2024-05-25T06:36:21.408074Z"
    }
   },
   "outputs": [
    {
     "name": "stdout",
     "output_type": "stream",
     "text": [
      "方程的解为: d1 = 17.0 和 d2 = 5.0\n"
     ]
    }
   ],
   "source": [
    "import math\n",
    "\n",
    "# 定义系数\n",
    "a = 1\n",
    "b = -22\n",
    "c = 85\n",
    "\n",
    "# 计算判别式\n",
    "discriminant = b**2 - 4*a*c\n",
    "\n",
    "# 判断判别式是否非负\n",
    "if discriminant >= 0:\n",
    "    # 计算两个解\n",
    "    root1 = (-b + math.sqrt(discriminant)) / (2*a)\n",
    "    root2 = (-b - math.sqrt(discriminant)) / (2*a)\n",
    "    print(\"方程的解为: d1 =\", root1, \"和 d2 =\", root2)\n",
    "else:\n",
    "    print(\"方程没有实数解\")\n"
   ]
  },
  {
   "cell_type": "code",
   "execution_count": null,
   "outputs": [],
   "source": [],
   "metadata": {
    "collapsed": false
   },
   "id": "1f5065189d04cb4e"
  }
 ],
 "metadata": {
  "kernelspec": {
   "display_name": "Python 3",
   "language": "python",
   "name": "python3"
  },
  "language_info": {
   "codemirror_mode": {
    "name": "ipython",
    "version": 2
   },
   "file_extension": ".py",
   "mimetype": "text/x-python",
   "name": "python",
   "nbconvert_exporter": "python",
   "pygments_lexer": "ipython2",
   "version": "2.7.6"
  }
 },
 "nbformat": 4,
 "nbformat_minor": 5
}
