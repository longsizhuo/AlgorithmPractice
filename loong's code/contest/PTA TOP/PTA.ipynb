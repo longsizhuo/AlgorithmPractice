{
 "cells": [
  {
   "cell_type": "code",
   "execution_count": 7,
   "id": "initial_id",
   "metadata": {
    "collapsed": true,
    "ExecuteTime": {
     "end_time": "2024-01-18T06:38:03.445203Z",
     "start_time": "2024-01-18T06:38:00.794249Z"
    }
   },
   "outputs": [
    {
     "name": "stdout",
     "output_type": "stream",
     "text": [
      "2\n"
     ]
    }
   ],
   "source": [
    "n = int(input())\n",
    "if n + 2 > 7:\n",
    "    n = n + 2 - 7\n",
    "    print(n)\n",
    "else:\n",
    "    print(n + 2)\n",
    "\n",
    "    "
   ]
  },
  {
   "cell_type": "code",
   "execution_count": 8,
   "outputs": [
    {
     "name": "stdout",
     "output_type": "stream",
     "text": [
      "Tom\n",
      "Zoe\n"
     ]
    }
   ],
   "source": [
    "n = int(input())\n",
    "for _ in range(n):\n",
    "    a, b, c = input().split()\n",
    "    if 15 > int(b) or int(b) > 20 or 50 > int(c) or int(c) > 70:\n",
    "        print(a)\n",
    "    else:\n",
    "        continue"
   ],
   "metadata": {
    "collapsed": false,
    "ExecuteTime": {
     "end_time": "2024-01-18T06:40:04.855204Z",
     "start_time": "2024-01-18T06:39:45.226828Z"
    }
   },
   "id": "4a25db8834d6ba93"
  },
  {
   "cell_type": "markdown",
   "source": [],
   "metadata": {
    "collapsed": false
   },
   "id": "dd0ca44de421a908"
  },
  {
   "cell_type": "code",
   "execution_count": 19,
   "outputs": [
    {
     "name": "stdout",
     "output_type": "stream",
     "text": [
      "Only 07:05.   Too early to Dang.\n"
     ]
    }
   ],
   "source": [
    "hour, minute = input().split(\":\")\n",
    "if 12 > int(hour) >= 0:\n",
    "    print(\"Only\", hour +\":\"+minute+\".\", \" Too early to Dang.\")\n",
    "elif int(hour) == 12 and int(minute) == 0:\n",
    "    print(\"Only\", hour +\":\"+minute+\".\", \" Too early to Dang.\")\n",
    "elif int(hour) == 12 and int(minute) > 0:\n",
    "    print(\"Dang\")\n",
    "elif int(hour) > 12:\n",
    "    if int(minute) == 0:\n",
    "        print(\"Dang\" * (int(hour)-12))\n",
    "    else:\n",
    "        print(\"Dang\" * (int(hour)-11))"
   ],
   "metadata": {
    "collapsed": false,
    "ExecuteTime": {
     "end_time": "2024-01-18T06:50:11.331481Z",
     "start_time": "2024-01-18T06:50:07.919068Z"
    }
   },
   "id": "322568890c6bd84b"
  },
  {
   "cell_type": "code",
   "execution_count": 21,
   "outputs": [
    {
     "name": "stdout",
     "output_type": "stream",
     "text": [
      "53\n"
     ]
    }
   ],
   "source": [
    "x, y = map(int, input().split())\n",
    "yx = str(x*y)[::-1]\n",
    "print(int(yx))"
   ],
   "metadata": {
    "collapsed": false,
    "ExecuteTime": {
     "end_time": "2024-01-18T06:53:33.600528Z",
     "start_time": "2024-01-18T06:53:28.972574Z"
    }
   },
   "id": "633a1a56707e180"
  },
  {
   "cell_type": "code",
   "execution_count": 23,
   "outputs": [
    {
     "ename": "SyntaxError",
     "evalue": "invalid syntax (2286033953.py, line 5)",
     "output_type": "error",
     "traceback": [
      "\u001B[0;36m  Cell \u001B[0;32mIn[23], line 5\u001B[0;36m\u001B[0m\n\u001B[0;31m    dicts =\u001B[0m\n\u001B[0m            ^\u001B[0m\n\u001B[0;31mSyntaxError\u001B[0m\u001B[0;31m:\u001B[0m invalid syntax\n"
     ]
    }
   ],
   "source": [
    "n = int(input())\n",
    "ans = \"\"\n",
    "for _ in range(n):\n",
    "    a,b,c,d = input().split()\n",
    "    dicts = {\n",
    "        \"A\":\"1\",\n",
    "        \"B\":\"2\",\n",
    "        \"C\":\"3\",\n",
    "        \"D\":\"4\",\n",
    "    }\n",
    "    for i in a,b,c,d:\n",
    "        if i[2] == \"T\":\n",
    "            ans += dicts[i[0]]\n",
    "            break\n",
    "print(ans)\n",
    "    \n",
    "    "
   ],
   "metadata": {
    "collapsed": false,
    "ExecuteTime": {
     "end_time": "2024-01-18T06:57:04.502553Z",
     "start_time": "2024-01-18T06:57:04.499191Z"
    }
   },
   "id": "292a87ca4ba55485"
  },
  {
   "cell_type": "code",
   "execution_count": 24,
   "outputs": [
    {
     "ename": "ValueError",
     "evalue": "invalid literal for int() with base 10: ''",
     "output_type": "error",
     "traceback": [
      "\u001B[0;31m---------------------------------------------------------------------------\u001B[0m",
      "\u001B[0;31mValueError\u001B[0m                                Traceback (most recent call last)",
      "Cell \u001B[0;32mIn[24], line 1\u001B[0m\n\u001B[0;32m----> 1\u001B[0m n \u001B[38;5;241m=\u001B[39m \u001B[38;5;28mint\u001B[39m(\u001B[38;5;28minput\u001B[39m())\n\u001B[1;32m      2\u001B[0m friends\u001B[38;5;241m=\u001B[39m{}\n\u001B[1;32m      3\u001B[0m \u001B[38;5;28;01mfor\u001B[39;00m _ \u001B[38;5;129;01min\u001B[39;00m \u001B[38;5;28mrange\u001B[39m(n):\n",
      "\u001B[0;31mValueError\u001B[0m: invalid literal for int() with base 10: ''"
     ]
    }
   ],
   "source": [
    "n = int(input())\n",
    "friends={}\n",
    "for _ in range(n):\n",
    "    x = list(input().split())\n",
    "    for i in range(1, len(x)):\n",
    "        friends.add(x[i])\n",
    "r = int(input())\n",
    "already = {}\n",
    "for i in input().split():\n",
    "    if i not in friends and i not in already:\n",
    "        print(i, end=\" \")\n",
    "        already.add(i)\n",
    "    \n",
    "    "
   ],
   "metadata": {
    "collapsed": false,
    "ExecuteTime": {
     "end_time": "2024-01-18T07:03:49.730802Z",
     "start_time": "2024-01-18T07:03:48.305961Z"
    }
   },
   "id": "d04c55abc4408616"
  },
  {
   "cell_type": "code",
   "execution_count": 27,
   "outputs": [
    {
     "name": "stdout",
     "output_type": "stream",
     "text": [
      " cut\n"
     ]
    }
   ],
   "source": [
    "n, char = input().split()\n",
    "n = int(n)\n",
    "string = input()\n",
    "if len(string) < n:\n",
    "    print(string.rjust(n, char))\n",
    "else:\n",
    "    print(string[-n:])"
   ],
   "metadata": {
    "collapsed": false,
    "ExecuteTime": {
     "end_time": "2024-01-18T07:16:24.704962Z",
     "start_time": "2024-01-18T07:16:14.418Z"
    }
   },
   "id": "93333a22ff813dd7"
  },
  {
   "cell_type": "code",
   "execution_count": null,
   "outputs": [],
   "source": [],
   "metadata": {
    "collapsed": false
   },
   "id": "5f24777a6dc8b221"
  }
 ],
 "metadata": {
  "kernelspec": {
   "display_name": "Python 3",
   "language": "python",
   "name": "python3"
  },
  "language_info": {
   "codemirror_mode": {
    "name": "ipython",
    "version": 2
   },
   "file_extension": ".py",
   "mimetype": "text/x-python",
   "name": "python",
   "nbconvert_exporter": "python",
   "pygments_lexer": "ipython2",
   "version": "2.7.6"
  }
 },
 "nbformat": 4,
 "nbformat_minor": 5
}
