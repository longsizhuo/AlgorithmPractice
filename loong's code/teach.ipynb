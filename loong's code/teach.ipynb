{
 "cells": [
  {
   "metadata": {},
   "cell_type": "markdown",
   "source": "# Hash Table",
   "id": "8aec1c09109db47d"
  },
  {
   "metadata": {},
   "cell_type": "markdown",
   "source": [
    "# C\n",
    "\n",
    "```c\n",
    "#include <stdio.h>\n",
    "#include <stdlib.h>\n",
    "#include <string.h>\n",
    "\n",
    "#define TABLE_SIZE 100\n",
    "\n",
    "typedef struct Entry {\n",
    "    char *key;\n",
    "    int value;\n",
    "    struct Entry *next;\n",
    "} Entry;\n",
    "\n",
    "Entry* hashTable[TABLE_SIZE];\n",
    "\n",
    "unsigned int hash(char *key) {\n",
    "    unsigned int hash = 0;\n",
    "    while (*key) {\n",
    "        hash = (hash << 5) + *key++;\n",
    "    }\n",
    "    return hash % TABLE_SIZE;\n",
    "}\n",
    "\n",
    "void insert(char *key, int value) {\n",
    "    unsigned int index = hash(key);\n",
    "    Entry *newEntry = malloc(sizeof(Entry));\n",
    "    newEntry->key = strdup(key);\n",
    "    newEntry->value = value;\n",
    "    newEntry->next = hashTable[index];\n",
    "    hashTable[index] = newEntry;\n",
    "}\n",
    "\n",
    "int main() {\n",
    "    insert(\"example\", 42);\n",
    "    printf(\"Inserted 'example' with value 42\\n\");\n",
    "    return 0;\n",
    "}\n",
    "```\n"
   ],
   "id": "3056eec9ca94a972"
  },
  {
   "metadata": {},
   "cell_type": "code",
   "source": [
    "hash_table = {\"example\": 42}\n",
    "\n",
    "print(\"Inserted 'example' with value\", hash_table[\"example\"])"
   ],
   "id": "e47f2c12cabba53e",
   "outputs": [
    {
     "name": "stdout",
     "output_type": "stream",
     "text": [
      "Inserted 'example' with value 42\n"
     ]
    }
   ],
   "execution_count": 3
  },
  {
   "metadata": {},
   "cell_type": "code",
   "outputs": [],
   "execution_count": null,
   "source": "hash_table[\"example\"] = 43",
   "id": "3a5bbf4ef16e171f"
  },
  {
   "metadata": {
    "ExecuteTime": {
     "end_time": "2024-07-21T15:25:34.148180Z",
     "start_time": "2024-07-21T15:25:34.135084Z"
    }
   },
   "cell_type": "code",
   "source": [
    "hash_table[\"list\"] = [1, 2, 3]\n",
    "hash_table[\"list\"].append(4)\n",
    "hash_table[\"list\"]"
   ],
   "id": "c4770145d2515282",
   "outputs": [
    {
     "data": {
      "text/plain": [
       "[1, 2, 3, 4]"
      ]
     },
     "execution_count": 5,
     "metadata": {},
     "output_type": "execute_result"
    }
   ],
   "execution_count": 5
  },
  {
   "metadata": {
    "ExecuteTime": {
     "end_time": "2024-07-21T14:51:56.456042Z",
     "start_time": "2024-07-21T14:51:56.446269Z"
    }
   },
   "cell_type": "code",
   "source": [
    "class Entry:\n",
    "    def __init__(self, key, value):\n",
    "        self.key = key\n",
    "        self.value = value\n",
    "        self.next = None\n",
    "        \n",
    "class HashTable:\n",
    "    def __init__(self):\n",
    "        self.table_size = 100\n",
    "        self.hash_table = [None] * self.table_size\n",
    "        \n",
    "    def hash(self, key):\n",
    "        hash = 0\n",
    "        for char in key:\n",
    "            hash = (hash << 5) + ord(char)\n",
    "        return hash % self.table_size\n",
    "    \n",
    "    def insert(self, key, value):\n",
    "        index = self.hash(key)\n",
    "        new_entry = Entry(key, value)\n",
    "        new_entry.next = self.hash_table[index]\n",
    "        self.hash_table[index] = new_entry\n",
    "        "
   ],
   "id": "afddae3479389aaa",
   "outputs": [],
   "execution_count": 4
  },
  {
   "metadata": {},
   "cell_type": "code",
   "outputs": [],
   "execution_count": null,
   "source": "hash_table = HashTable()\n",
   "id": "eee9871543e7e732"
  }
 ],
 "metadata": {
  "kernelspec": {
   "display_name": "Python 3",
   "language": "python",
   "name": "python3"
  },
  "language_info": {
   "codemirror_mode": {
    "name": "ipython",
    "version": 2
   },
   "file_extension": ".py",
   "mimetype": "text/x-python",
   "name": "python",
   "nbconvert_exporter": "python",
   "pygments_lexer": "ipython2",
   "version": "2.7.6"
  }
 },
 "nbformat": 4,
 "nbformat_minor": 5
}
