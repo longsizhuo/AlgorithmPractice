{
 "cells": [
  {
   "cell_type": "markdown",
   "source": [
    "#日期计算器"
   ],
   "metadata": {
    "collapsed": false
   },
   "id": "66bba6940b0c358d"
  },
  {
   "cell_type": "code",
   "execution_count": null,
   "outputs": [],
   "source": [
    "import datetime\n",
    "import calendar\n",
    "import time\n",
    "month, day = input(\"请输入月份和日期，以空格分隔：\").split()\n",
    "month = int(month)\n",
    "day = int(day)\n"
   ],
   "metadata": {
    "collapsed": false
   },
   "id": "fe37b1ca839135e2"
  }
 ],
 "metadata": {
  "kernelspec": {
   "display_name": "Python 3",
   "language": "python",
   "name": "python3"
  },
  "language_info": {
   "codemirror_mode": {
    "name": "ipython",
    "version": 2
   },
   "file_extension": ".py",
   "mimetype": "text/x-python",
   "name": "python",
   "nbconvert_exporter": "python",
   "pygments_lexer": "ipython2",
   "version": "2.7.6"
  }
 },
 "nbformat": 4,
 "nbformat_minor": 5
}
